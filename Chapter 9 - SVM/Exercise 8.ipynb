{
 "cells": [
  {
   "cell_type": "code",
   "execution_count": 23,
   "id": "029d86c9-1aa6-49bc-8963-9f765e9f3960",
   "metadata": {},
   "outputs": [],
   "source": [
    "import numpy as np\n",
    "import pandas as pd\n",
    "from ISLP import load_data\n",
    "from ISLP.models import ModelSpec as MS\n",
    "import sklearn.model_selection as skm\n",
    "from sklearn.svm import SVC"
   ]
  },
  {
   "cell_type": "code",
   "execution_count": 44,
   "id": "56f0e556-9db1-4705-9603-427568421464",
   "metadata": {},
   "outputs": [],
   "source": [
    "# Part A: Initialization\n",
    "OJ = load_data(\"OJ\")\n",
    "OJ['Store7'] = OJ.Store7.map(dict(Yes=1,No=0))\n",
    "model = MS(OJ.columns.drop('Purchase'), intercept=False)\n",
    "D = model.fit_transform(OJ)\n",
    "feature_names = list(D.columns)\n",
    "X = np.asarray(D)"
   ]
  },
  {
   "cell_type": "code",
   "execution_count": 46,
   "id": "8f8e9431-0240-4db3-b4d8-2bdadcd4d174",
   "metadata": {},
   "outputs": [],
   "source": [
    "X_train, X_test, y_train, y_test = skm.train_test_split(X,\n",
    "                                                    OJ[\"Purchase\"],\n",
    "                                                    test_size=270,\n",
    "                                                    random_state=0)"
   ]
  },
  {
   "cell_type": "code",
   "execution_count": 47,
   "id": "77e1bd6c-b641-4960-a55b-6d6fa441088b",
   "metadata": {},
   "outputs": [
    {
     "data": {
      "text/html": [
       "<style>#sk-container-id-3 {color: black;}#sk-container-id-3 pre{padding: 0;}#sk-container-id-3 div.sk-toggleable {background-color: white;}#sk-container-id-3 label.sk-toggleable__label {cursor: pointer;display: block;width: 100%;margin-bottom: 0;padding: 0.3em;box-sizing: border-box;text-align: center;}#sk-container-id-3 label.sk-toggleable__label-arrow:before {content: \"▸\";float: left;margin-right: 0.25em;color: #696969;}#sk-container-id-3 label.sk-toggleable__label-arrow:hover:before {color: black;}#sk-container-id-3 div.sk-estimator:hover label.sk-toggleable__label-arrow:before {color: black;}#sk-container-id-3 div.sk-toggleable__content {max-height: 0;max-width: 0;overflow: hidden;text-align: left;background-color: #f0f8ff;}#sk-container-id-3 div.sk-toggleable__content pre {margin: 0.2em;color: black;border-radius: 0.25em;background-color: #f0f8ff;}#sk-container-id-3 input.sk-toggleable__control:checked~div.sk-toggleable__content {max-height: 200px;max-width: 100%;overflow: auto;}#sk-container-id-3 input.sk-toggleable__control:checked~label.sk-toggleable__label-arrow:before {content: \"▾\";}#sk-container-id-3 div.sk-estimator input.sk-toggleable__control:checked~label.sk-toggleable__label {background-color: #d4ebff;}#sk-container-id-3 div.sk-label input.sk-toggleable__control:checked~label.sk-toggleable__label {background-color: #d4ebff;}#sk-container-id-3 input.sk-hidden--visually {border: 0;clip: rect(1px 1px 1px 1px);clip: rect(1px, 1px, 1px, 1px);height: 1px;margin: -1px;overflow: hidden;padding: 0;position: absolute;width: 1px;}#sk-container-id-3 div.sk-estimator {font-family: monospace;background-color: #f0f8ff;border: 1px dotted black;border-radius: 0.25em;box-sizing: border-box;margin-bottom: 0.5em;}#sk-container-id-3 div.sk-estimator:hover {background-color: #d4ebff;}#sk-container-id-3 div.sk-parallel-item::after {content: \"\";width: 100%;border-bottom: 1px solid gray;flex-grow: 1;}#sk-container-id-3 div.sk-label:hover label.sk-toggleable__label {background-color: #d4ebff;}#sk-container-id-3 div.sk-serial::before {content: \"\";position: absolute;border-left: 1px solid gray;box-sizing: border-box;top: 0;bottom: 0;left: 50%;z-index: 0;}#sk-container-id-3 div.sk-serial {display: flex;flex-direction: column;align-items: center;background-color: white;padding-right: 0.2em;padding-left: 0.2em;position: relative;}#sk-container-id-3 div.sk-item {position: relative;z-index: 1;}#sk-container-id-3 div.sk-parallel {display: flex;align-items: stretch;justify-content: center;background-color: white;position: relative;}#sk-container-id-3 div.sk-item::before, #sk-container-id-3 div.sk-parallel-item::before {content: \"\";position: absolute;border-left: 1px solid gray;box-sizing: border-box;top: 0;bottom: 0;left: 50%;z-index: -1;}#sk-container-id-3 div.sk-parallel-item {display: flex;flex-direction: column;z-index: 1;position: relative;background-color: white;}#sk-container-id-3 div.sk-parallel-item:first-child::after {align-self: flex-end;width: 50%;}#sk-container-id-3 div.sk-parallel-item:last-child::after {align-self: flex-start;width: 50%;}#sk-container-id-3 div.sk-parallel-item:only-child::after {width: 0;}#sk-container-id-3 div.sk-dashed-wrapped {border: 1px dashed gray;margin: 0 0.4em 0.5em 0.4em;box-sizing: border-box;padding-bottom: 0.4em;background-color: white;}#sk-container-id-3 div.sk-label label {font-family: monospace;font-weight: bold;display: inline-block;line-height: 1.2em;}#sk-container-id-3 div.sk-label-container {text-align: center;}#sk-container-id-3 div.sk-container {/* jupyter's `normalize.less` sets `[hidden] { display: none; }` but bootstrap.min.css set `[hidden] { display: none !important; }` so we also need the `!important` here to be able to override the default hidden behavior on the sphinx rendered scikit-learn.org. See: https://github.com/scikit-learn/scikit-learn/issues/21755 */display: inline-block !important;position: relative;}#sk-container-id-3 div.sk-text-repr-fallback {display: none;}</style><div id=\"sk-container-id-3\" class=\"sk-top-container\"><div class=\"sk-text-repr-fallback\"><pre>SVC(C=0.01, kernel=&#x27;linear&#x27;)</pre><b>In a Jupyter environment, please rerun this cell to show the HTML representation or trust the notebook. <br />On GitHub, the HTML representation is unable to render, please try loading this page with nbviewer.org.</b></div><div class=\"sk-container\" hidden><div class=\"sk-item\"><div class=\"sk-estimator sk-toggleable\"><input class=\"sk-toggleable__control sk-hidden--visually\" id=\"sk-estimator-id-3\" type=\"checkbox\" checked><label for=\"sk-estimator-id-3\" class=\"sk-toggleable__label sk-toggleable__label-arrow\">SVC</label><div class=\"sk-toggleable__content\"><pre>SVC(C=0.01, kernel=&#x27;linear&#x27;)</pre></div></div></div></div></div>"
      ],
      "text/plain": [
       "SVC(C=0.01, kernel='linear')"
      ]
     },
     "execution_count": 47,
     "metadata": {},
     "output_type": "execute_result"
    }
   ],
   "source": [
    "# Part B\n",
    "# Fit Support vector classifier\n",
    "svm_linear = SVC(C=0.01, # Tolerance for missclassification\n",
    "                 kernel='linear')\n",
    "svm_linear.fit(X_train, y_train)"
   ]
  },
  {
   "cell_type": "code",
   "execution_count": 52,
   "id": "67f04614-66cf-4cb7-94f2-9d475fd749bf",
   "metadata": {},
   "outputs": [
    {
     "data": {
      "text/plain": [
       "array([302, 300], dtype=int32)"
      ]
     },
     "execution_count": 52,
     "metadata": {},
     "output_type": "execute_result"
    }
   ],
   "source": [
    "svm_linear.n_support_"
   ]
  },
  {
   "cell_type": "code",
   "execution_count": 58,
   "id": "409471d4-1acb-4579-8ebb-5f60717c23d4",
   "metadata": {},
   "outputs": [
    {
     "name": "stdout",
     "output_type": "stream",
     "text": [
      "Train error 0.28375\n"
     ]
    }
   ],
   "source": [
    "# Part C: train and test error\n",
    "y_hat = svm_linear.predict(X_train)\n",
    "print(\"Train error\" , np.mean(np.abs(y_hat != y_train)))"
   ]
  },
  {
   "cell_type": "code",
   "execution_count": 59,
   "id": "7fc965d6-3ed4-4bcd-a691-f5f790cacec6",
   "metadata": {},
   "outputs": [
    {
     "name": "stdout",
     "output_type": "stream",
     "text": [
      "Test error 0.32222222222222224\n"
     ]
    }
   ],
   "source": [
    "y_hat_test = svm_linear.predict(X_test)\n",
    "print(\"Test error\", np.mean(np.abs(y_hat_test != y_test)))"
   ]
  },
  {
   "cell_type": "code",
   "execution_count": 61,
   "id": "d7fc5529-84e9-4493-8b77-d4a6140c2600",
   "metadata": {},
   "outputs": [
    {
     "data": {
      "text/plain": [
       "{'C': 5}"
      ]
     },
     "execution_count": 61,
     "metadata": {},
     "output_type": "execute_result"
    }
   ],
   "source": [
    "# Part D\n",
    "# Cross val to find best C\n",
    "kfold = skm.KFold(5,\n",
    "                  random_state=0,\n",
    "                  shuffle=True)\n",
    "grid = skm.GridSearchCV(svm_linear,\n",
    "                        {'C':[0.001,0.01,0.1,1,5,10]},\n",
    "                         refit=True,\n",
    "                        cv=kfold,\n",
    "                        scoring='accuracy')\n",
    "grid.fit(X_test, y_test)\n",
    "grid.best_params_"
   ]
  },
  {
   "cell_type": "code",
   "execution_count": 64,
   "id": "1809a5a4-1264-4243-82f0-0f4e34a7b7c3",
   "metadata": {},
   "outputs": [
    {
     "name": "stdout",
     "output_type": "stream",
     "text": [
      "Train error 0.1775\n"
     ]
    }
   ],
   "source": [
    "# Part E: Train Test error\n",
    "best_ = grid.best_estimator_\n",
    "y_hat_ = best_.predict(X_train)\n",
    "print(\"Train error\", np.mean(np.abs(y_hat_!=y_train)))"
   ]
  },
  {
   "cell_type": "code",
   "execution_count": 66,
   "id": "d2e1b8a6-c7fa-4b85-8617-f98f97cfc27a",
   "metadata": {},
   "outputs": [
    {
     "name": "stdout",
     "output_type": "stream",
     "text": [
      "Test error 0.15555555555555556\n"
     ]
    }
   ],
   "source": [
    "y_hat_test_ = best_.predict(X_test)\n",
    "print(\"Test error\", np.mean(np.abs(y_hat_test_ != y_test)))"
   ]
  },
  {
   "cell_type": "code",
   "execution_count": 68,
   "id": "f0fc81be-dba6-4081-b55d-1c6d187b92b9",
   "metadata": {},
   "outputs": [
    {
     "data": {
      "text/plain": [
       "{'C': 0.001}"
      ]
     },
     "execution_count": 68,
     "metadata": {},
     "output_type": "execute_result"
    }
   ],
   "source": [
    "# Part F: Doing the same with radial kernel\n",
    "\n",
    "svm_rbf = SVC(C=0.01,\n",
    "              kernel='rbf')\n",
    "# Cross val to find best C\n",
    "kfold = skm.KFold(5,\n",
    "                  random_state=0,\n",
    "                  shuffle=True)\n",
    "grid = skm.GridSearchCV(svm_rbf,\n",
    "                        {'C':[0.001,0.01,0.1,1,5,10]},\n",
    "                         refit=True,\n",
    "                        cv=kfold,\n",
    "                        scoring='accuracy')\n",
    "grid.fit(X_test, y_test)\n",
    "grid.best_params_"
   ]
  },
  {
   "cell_type": "code",
   "execution_count": 69,
   "id": "d3d3f4fa-b0f1-4582-8c6b-84e8157cf957",
   "metadata": {},
   "outputs": [
    {
     "name": "stdout",
     "output_type": "stream",
     "text": [
      "Train error 0.375\n"
     ]
    }
   ],
   "source": [
    "best_ = grid.best_estimator_\n",
    "y_hat_ = best_.predict(X_train)\n",
    "print(\"Train error\", np.mean(np.abs(y_hat_!=y_train)))"
   ]
  },
  {
   "cell_type": "code",
   "execution_count": 70,
   "id": "1839321d-6630-4901-8abc-1c9f01a0e0c2",
   "metadata": {},
   "outputs": [
    {
     "name": "stdout",
     "output_type": "stream",
     "text": [
      "Test error 0.43333333333333335\n"
     ]
    }
   ],
   "source": [
    "y_hat_test_ = best_.predict(X_test)\n",
    "print(\"Test error\", np.mean(np.abs(y_hat_test_ != y_test)))"
   ]
  },
  {
   "cell_type": "code",
   "execution_count": null,
   "id": "4cea26c5-dd7f-489a-b142-f1adcedc7502",
   "metadata": {},
   "outputs": [],
   "source": [
    "# Part G : Doing the same with quadratic kernel\n",
    "svm_poly = SVC(C=0.01,\n",
    "              kernel='poly',\n",
    "              degree=100)\n",
    "# Cross val to find best C\n",
    "kfold = skm.KFold(5,\n",
    "                  random_state=0,\n",
    "                  shuffle=True)\n",
    "grid = skm.GridSearchCV(svm_poly,\n",
    "                        {'C':[0.001,0.01,0.1,1,5,10]},\n",
    "                         refit=True,\n",
    "                        cv=kfold,\n",
    "                        scoring='accuracy')\n",
    "grid.fit(X_test, y_test)\n",
    "grid.best_params_"
   ]
  },
  {
   "cell_type": "code",
   "execution_count": 75,
   "id": "1b7be4af-895c-41cd-b93c-dcee77e50c7c",
   "metadata": {},
   "outputs": [
    {
     "name": "stdout",
     "output_type": "stream",
     "text": [
      "Train error 0.32625\n"
     ]
    }
   ],
   "source": [
    "best_ = grid.best_estimator_\n",
    "y_hat_ = best_.predict(X_train)\n",
    "print(\"Train error\", np.mean(np.abs(y_hat_!=y_train)))"
   ]
  },
  {
   "cell_type": "code",
   "execution_count": 76,
   "id": "ae880f37-d3df-42c6-ad27-03fbe39a761f",
   "metadata": {},
   "outputs": [
    {
     "name": "stdout",
     "output_type": "stream",
     "text": [
      "Test error 0.337037037037037\n"
     ]
    }
   ],
   "source": [
    "y_hat_test_ = best_.predict(X_test)\n",
    "print(\"Test error\", np.mean(np.abs(y_hat_test_ != y_test)))"
   ]
  },
  {
   "cell_type": "code",
   "execution_count": null,
   "id": "d05ec35f-b39f-43d5-a9d8-5dce8285fe25",
   "metadata": {},
   "outputs": [],
   "source": []
  }
 ],
 "metadata": {
  "kernelspec": {
   "display_name": "Python 3 (ipykernel)",
   "language": "python",
   "name": "python3"
  },
  "language_info": {
   "codemirror_mode": {
    "name": "ipython",
    "version": 3
   },
   "file_extension": ".py",
   "mimetype": "text/x-python",
   "name": "python",
   "nbconvert_exporter": "python",
   "pygments_lexer": "ipython3",
   "version": "3.11.4"
  }
 },
 "nbformat": 4,
 "nbformat_minor": 5
}
