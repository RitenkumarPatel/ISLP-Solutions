{
 "cells": [
  {
   "cell_type": "code",
   "execution_count": 57,
   "id": "d8aa4b83-ba0c-4142-9173-9ed3cbf5c7b3",
   "metadata": {},
   "outputs": [],
   "source": [
    "import numpy as np\n",
    "import matplotlib.pyplot as plt\n",
    "import pandas as pd\n",
    "\n",
    "import statsmodels.formula.api as smf\n",
    "# Problem 13\n",
    "rng = np.random.default_rng(1)\n",
    "# 100 observations, N(0,1)\n",
    "x = rng.normal(size=100)\n",
    "# 100 observations, N(0,0.25)\n",
    "eps = rng.normal(size=100, scale = 0.5)"
   ]
  },
  {
   "cell_type": "code",
   "execution_count": 11,
   "id": "a32b80a9-2116-404e-bc92-bcccb660e2f8",
   "metadata": {},
   "outputs": [],
   "source": [
    "# Length 100, B_0 = -1, B_1 = 0.5\n",
    "y = -1 + 0.5*x + eps"
   ]
  },
  {
   "cell_type": "code",
   "execution_count": 21,
   "id": "71f964c5-54a1-47e5-ada9-f4d68cd6480e",
   "metadata": {},
   "outputs": [
    {
     "data": {
      "image/png": "[encoded data removed]",
      "text/plain": [
       "<Figure size 640x480 with 1 Axes>"
      ]
     },
     "metadata": {},
     "output_type": "display_data"
    }
   ],
   "source": [
    "plt.scatter(x,y);\n"
   ]
  },
  {
   "cell_type": "code",
   "execution_count": 37,
   "id": "c6f12b7d-dc97-4dd0-8c1a-8554f9c38675",
   "metadata": {},
   "outputs": [
    {
     "data": {
      "text/html": [
       "<table class=\"simpletable\">\n",
       "<caption>OLS Regression Results</caption>\n",
       "<tr>\n",
       "  <th>Dep. Variable:</th>            <td>y</td>        <th>  R-squared:         </th> <td>   0.409</td>\n",
       "</tr>\n",
       "<tr>\n",
       "  <th>Model:</th>                   <td>OLS</td>       <th>  Adj. R-squared:    </th> <td>   0.403</td>\n",
       "</tr>\n",
       "<tr>\n",
       "  <th>Method:</th>             <td>Least Squares</td>  <th>  F-statistic:       </th> <td>   67.79</td>\n",
       "</tr>\n",
       "<tr>\n",
       "  <th>Date:</th>             <td>Wed, 22 May 2024</td> <th>  Prob (F-statistic):</th> <td>8.04e-13</td>\n",
       "</tr>\n",
       "<tr>\n",
       "  <th>Time:</th>                 <td>11:41:46</td>     <th>  Log-Likelihood:    </th> <td> -71.745</td>\n",
       "</tr>\n",
       "<tr>\n",
       "  <th>No. Observations:</th>      <td>   100</td>      <th>  AIC:               </th> <td>   147.5</td>\n",
       "</tr>\n",
       "<tr>\n",
       "  <th>Df Residuals:</th>          <td>    98</td>      <th>  BIC:               </th> <td>   152.7</td>\n",
       "</tr>\n",
       "<tr>\n",
       "  <th>Df Model:</th>              <td>     1</td>      <th>                     </th>     <td> </td>   \n",
       "</tr>\n",
       "<tr>\n",
       "  <th>Covariance Type:</th>      <td>nonrobust</td>    <th>                     </th>     <td> </td>   \n",
       "</tr>\n",
       "</table>\n",
       "<table class=\"simpletable\">\n",
       "<tr>\n",
       "      <td></td>         <th>coef</th>     <th>std err</th>      <th>t</th>      <th>P>|t|</th>  <th>[0.025</th>    <th>0.975]</th>  \n",
       "</tr>\n",
       "<tr>\n",
       "  <th>Intercept</th> <td>   -1.0380</td> <td>    0.050</td> <td>  -20.647</td> <td> 0.000</td> <td>   -1.138</td> <td>   -0.938</td>\n",
       "</tr>\n",
       "<tr>\n",
       "  <th>x</th>         <td>    0.4843</td> <td>    0.059</td> <td>    8.233</td> <td> 0.000</td> <td>    0.368</td> <td>    0.601</td>\n",
       "</tr>\n",
       "</table>\n",
       "<table class=\"simpletable\">\n",
       "<tr>\n",
       "  <th>Omnibus:</th>       <td> 1.277</td> <th>  Durbin-Watson:     </th> <td>   2.198</td>\n",
       "</tr>\n",
       "<tr>\n",
       "  <th>Prob(Omnibus):</th> <td> 0.528</td> <th>  Jarque-Bera (JB):  </th> <td>   0.759</td>\n",
       "</tr>\n",
       "<tr>\n",
       "  <th>Skew:</th>          <td> 0.114</td> <th>  Prob(JB):          </th> <td>   0.684</td>\n",
       "</tr>\n",
       "<tr>\n",
       "  <th>Kurtosis:</th>      <td> 3.361</td> <th>  Cond. No.          </th> <td>    1.20</td>\n",
       "</tr>\n",
       "</table><br/><br/>Notes:<br/>[1] Standard Errors assume that the covariance matrix of the errors is correctly specified."
      ],
      "text/latex": [
       "\\begin{center}\n",
       "\\begin{tabular}{lclc}\n",
       "\\toprule\n",
       "\\textbf{Dep. Variable:}    &        y         & \\textbf{  R-squared:         } &     0.409   \\\\\n",
       "\\textbf{Model:}            &       OLS        & \\textbf{  Adj. R-squared:    } &     0.403   \\\\\n",
       "\\textbf{Method:}           &  Least Squares   & \\textbf{  F-statistic:       } &     67.79   \\\\\n",
       "\\textbf{Date:}             & Wed, 22 May 2024 & \\textbf{  Prob (F-statistic):} &  8.04e-13   \\\\\n",
       "\\textbf{Time:}             &     11:41:46     & \\textbf{  Log-Likelihood:    } &   -71.745   \\\\\n",
       "\\textbf{No. Observations:} &         100      & \\textbf{  AIC:               } &     147.5   \\\\\n",
       "\\textbf{Df Residuals:}     &          98      & \\textbf{  BIC:               } &     152.7   \\\\\n",
       "\\textbf{Df Model:}         &           1      & \\textbf{                     } &             \\\\\n",
       "\\textbf{Covariance Type:}  &    nonrobust     & \\textbf{                     } &             \\\\\n",
       "\\bottomrule\n",
       "\\end{tabular}\n",
       "\\begin{tabular}{lcccccc}\n",
       "                   & \\textbf{coef} & \\textbf{std err} & \\textbf{t} & \\textbf{P$> |$t$|$} & \\textbf{[0.025} & \\textbf{0.975]}  \\\\\n",
       "\\midrule\n",
       "\\textbf{Intercept} &      -1.0380  &        0.050     &   -20.647  &         0.000        &       -1.138    &       -0.938     \\\\\n",
       "\\textbf{x}         &       0.4843  &        0.059     &     8.233  &         0.000        &        0.368    &        0.601     \\\\\n",
       "\\bottomrule\n",
       "\\end{tabular}\n",
       "\\begin{tabular}{lclc}\n",
       "\\textbf{Omnibus:}       &  1.277 & \\textbf{  Durbin-Watson:     } &    2.198  \\\\\n",
       "\\textbf{Prob(Omnibus):} &  0.528 & \\textbf{  Jarque-Bera (JB):  } &    0.759  \\\\\n",
       "\\textbf{Skew:}          &  0.114 & \\textbf{  Prob(JB):          } &    0.684  \\\\\n",
       "\\textbf{Kurtosis:}      &  3.361 & \\textbf{  Cond. No.          } &     1.20  \\\\\n",
       "\\bottomrule\n",
       "\\end{tabular}\n",
       "%\\caption{OLS Regression Results}\n",
       "\\end{center}\n",
       "\n",
       "Notes: \\newline\n",
       " [1] Standard Errors assume that the covariance matrix of the errors is correctly specified."
      ],
      "text/plain": [
       "<class 'statsmodels.iolib.summary.Summary'>\n",
       "\"\"\"\n",
       "                            OLS Regression Results                            \n",
       "==============================================================================\n",
       "Dep. Variable:                      y   R-squared:                       0.409\n",
       "Model:                            OLS   Adj. R-squared:                  0.403\n",
       "Method:                 Least Squares   F-statistic:                     67.79\n",
       "Date:                Wed, 22 May 2024   Prob (F-statistic):           8.04e-13\n",
       "Time:                        11:41:46   Log-Likelihood:                -71.745\n",
       "No. Observations:                 100   AIC:                             147.5\n",
       "Df Residuals:                      98   BIC:                             152.7\n",
       "Df Model:                           1                                         \n",
       "Covariance Type:            nonrobust                                         \n",
       "==============================================================================\n",
       "                 coef    std err          t      P>|t|      [0.025      0.975]\n",
       "------------------------------------------------------------------------------\n",
       "Intercept     -1.0380      0.050    -20.647      0.000      -1.138      -0.938\n",
       "x              0.4843      0.059      8.233      0.000       0.368       0.601\n",
       "==============================================================================\n",
       "Omnibus:                        1.277   Durbin-Watson:                   2.198\n",
       "Prob(Omnibus):                  0.528   Jarque-Bera (JB):                0.759\n",
       "Skew:                           0.114   Prob(JB):                        0.684\n",
       "Kurtosis:                       3.361   Cond. No.                         1.20\n",
       "==============================================================================\n",
       "\n",
       "Notes:\n",
       "[1] Standard Errors assume that the covariance matrix of the errors is correctly specified.\n",
       "\"\"\""
      ]
     },
     "execution_count": 37,
     "metadata": {},
     "output_type": "execute_result"
    }
   ],
   "source": [
    "df = pd.DataFrame({'x':x, 'y':y})\n",
    "reg = smf.ols('y ~ x', df).fit()\n",
    "reg.summary()"
   ]
  },
  {
   "cell_type": "code",
   "execution_count": 55,
   "id": "47bf8cc7-cd17-49be-ac66-339840a2bf15",
   "metadata": {},
   "outputs": [
    {
     "data": {
      "image/png": "[encoded data removed]",
      "text/plain": [
       "<Figure size 640x480 with 1 Axes>"
      ]
     },
     "metadata": {},
     "output_type": "display_data"
    }
   ],
   "source": [
    "# Here, B_0^ = -1.038 and B_1^ = 0.4843\n",
    "ax = df.plot.scatter('x','y');\n",
    "\n",
    "def abline(ax,b,m, *args, **kwargs): # args any number of non-named args, kwargs allows any number of named args\n",
    "    \"Add a line with slope m and intercept b to ax\"\n",
    "    xlim = ax.get_xlim()\n",
    "    ylim = [m * xlim[0] + b, m * xlim[1] + b]\n",
    "    ax.plot(xlim, ylim, *args, **kwargs)\n",
    "# Regression line\n",
    "abline(ax, reg.params[0], reg.params[1],'r--')\n",
    "# Population line\n",
    "ax.axline([0,-1],slope=0.5,color='k');"
   ]
  },
  {
   "cell_type": "code",
   "execution_count": 59,
   "id": "efdbdb1c-de1e-474c-b8ad-9f12d8fb21d2",
   "metadata": {},
   "outputs": [
    {
     "data": {
      "text/html": [
       "<table class=\"simpletable\">\n",
       "<caption>OLS Regression Results</caption>\n",
       "<tr>\n",
       "  <th>Dep. Variable:</th>            <td>y</td>        <th>  R-squared:         </th> <td>   0.409</td>\n",
       "</tr>\n",
       "<tr>\n",
       "  <th>Model:</th>                   <td>OLS</td>       <th>  Adj. R-squared:    </th> <td>   0.397</td>\n",
       "</tr>\n",
       "<tr>\n",
       "  <th>Method:</th>             <td>Least Squares</td>  <th>  F-statistic:       </th> <td>   33.55</td>\n",
       "</tr>\n",
       "<tr>\n",
       "  <th>Date:</th>             <td>Wed, 22 May 2024</td> <th>  Prob (F-statistic):</th> <td>8.42e-12</td>\n",
       "</tr>\n",
       "<tr>\n",
       "  <th>Time:</th>                 <td>12:02:48</td>     <th>  Log-Likelihood:    </th> <td> -71.744</td>\n",
       "</tr>\n",
       "<tr>\n",
       "  <th>No. Observations:</th>      <td>   100</td>      <th>  AIC:               </th> <td>   149.5</td>\n",
       "</tr>\n",
       "<tr>\n",
       "  <th>Df Residuals:</th>          <td>    97</td>      <th>  BIC:               </th> <td>   157.3</td>\n",
       "</tr>\n",
       "<tr>\n",
       "  <th>Df Model:</th>              <td>     2</td>      <th>                     </th>     <td> </td>   \n",
       "</tr>\n",
       "<tr>\n",
       "  <th>Covariance Type:</th>      <td>nonrobust</td>    <th>                     </th>     <td> </td>   \n",
       "</tr>\n",
       "</table>\n",
       "<table class=\"simpletable\">\n",
       "<tr>\n",
       "      <td></td>         <th>coef</th>     <th>std err</th>      <th>t</th>      <th>P>|t|</th>  <th>[0.025</th>    <th>0.975]</th>  \n",
       "</tr>\n",
       "<tr>\n",
       "  <th>Intercept</th> <td>   -1.0364</td> <td>    0.060</td> <td>  -17.399</td> <td> 0.000</td> <td>   -1.155</td> <td>   -0.918</td>\n",
       "</tr>\n",
       "<tr>\n",
       "  <th>x</th>         <td>    0.4831</td> <td>    0.063</td> <td>    7.647</td> <td> 0.000</td> <td>    0.358</td> <td>    0.609</td>\n",
       "</tr>\n",
       "<tr>\n",
       "  <th>I(x ** 2)</th> <td>   -0.0024</td> <td>    0.045</td> <td>   -0.052</td> <td> 0.959</td> <td>   -0.092</td> <td>    0.088</td>\n",
       "</tr>\n",
       "</table>\n",
       "<table class=\"simpletable\">\n",
       "<tr>\n",
       "  <th>Omnibus:</th>       <td> 1.338</td> <th>  Durbin-Watson:     </th> <td>   2.197</td>\n",
       "</tr>\n",
       "<tr>\n",
       "  <th>Prob(Omnibus):</th> <td> 0.512</td> <th>  Jarque-Bera (JB):  </th> <td>   0.814</td>\n",
       "</tr>\n",
       "<tr>\n",
       "  <th>Skew:</th>          <td> 0.119</td> <th>  Prob(JB):          </th> <td>   0.666</td>\n",
       "</tr>\n",
       "<tr>\n",
       "  <th>Kurtosis:</th>      <td> 3.372</td> <th>  Cond. No.          </th> <td>    2.23</td>\n",
       "</tr>\n",
       "</table><br/><br/>Notes:<br/>[1] Standard Errors assume that the covariance matrix of the errors is correctly specified."
      ],
      "text/latex": [
       "\\begin{center}\n",
       "\\begin{tabular}{lclc}\n",
       "\\toprule\n",
       "\\textbf{Dep. Variable:}    &        y         & \\textbf{  R-squared:         } &     0.409   \\\\\n",
       "\\textbf{Model:}            &       OLS        & \\textbf{  Adj. R-squared:    } &     0.397   \\\\\n",
       "\\textbf{Method:}           &  Least Squares   & \\textbf{  F-statistic:       } &     33.55   \\\\\n",
       "\\textbf{Date:}             & Wed, 22 May 2024 & \\textbf{  Prob (F-statistic):} &  8.42e-12   \\\\\n",
       "\\textbf{Time:}             &     12:02:48     & \\textbf{  Log-Likelihood:    } &   -71.744   \\\\\n",
       "\\textbf{No. Observations:} &         100      & \\textbf{  AIC:               } &     149.5   \\\\\n",
       "\\textbf{Df Residuals:}     &          97      & \\textbf{  BIC:               } &     157.3   \\\\\n",
       "\\textbf{Df Model:}         &           2      & \\textbf{                     } &             \\\\\n",
       "\\textbf{Covariance Type:}  &    nonrobust     & \\textbf{                     } &             \\\\\n",
       "\\bottomrule\n",
       "\\end{tabular}\n",
       "\\begin{tabular}{lcccccc}\n",
       "                   & \\textbf{coef} & \\textbf{std err} & \\textbf{t} & \\textbf{P$> |$t$|$} & \\textbf{[0.025} & \\textbf{0.975]}  \\\\\n",
       "\\midrule\n",
       "\\textbf{Intercept} &      -1.0364  &        0.060     &   -17.399  &         0.000        &       -1.155    &       -0.918     \\\\\n",
       "\\textbf{x}         &       0.4831  &        0.063     &     7.647  &         0.000        &        0.358    &        0.609     \\\\\n",
       "\\textbf{I(x ** 2)} &      -0.0024  &        0.045     &    -0.052  &         0.959        &       -0.092    &        0.088     \\\\\n",
       "\\bottomrule\n",
       "\\end{tabular}\n",
       "\\begin{tabular}{lclc}\n",
       "\\textbf{Omnibus:}       &  1.338 & \\textbf{  Durbin-Watson:     } &    2.197  \\\\\n",
       "\\textbf{Prob(Omnibus):} &  0.512 & \\textbf{  Jarque-Bera (JB):  } &    0.814  \\\\\n",
       "\\textbf{Skew:}          &  0.119 & \\textbf{  Prob(JB):          } &    0.666  \\\\\n",
       "\\textbf{Kurtosis:}      &  3.372 & \\textbf{  Cond. No.          } &     2.23  \\\\\n",
       "\\bottomrule\n",
       "\\end{tabular}\n",
       "%\\caption{OLS Regression Results}\n",
       "\\end{center}\n",
       "\n",
       "Notes: \\newline\n",
       " [1] Standard Errors assume that the covariance matrix of the errors is correctly specified."
      ],
      "text/plain": [
       "<class 'statsmodels.iolib.summary.Summary'>\n",
       "\"\"\"\n",
       "                            OLS Regression Results                            \n",
       "==============================================================================\n",
       "Dep. Variable:                      y   R-squared:                       0.409\n",
       "Model:                            OLS   Adj. R-squared:                  0.397\n",
       "Method:                 Least Squares   F-statistic:                     33.55\n",
       "Date:                Wed, 22 May 2024   Prob (F-statistic):           8.42e-12\n",
       "Time:                        12:02:48   Log-Likelihood:                -71.744\n",
       "No. Observations:                 100   AIC:                             149.5\n",
       "Df Residuals:                      97   BIC:                             157.3\n",
       "Df Model:                           2                                         \n",
       "Covariance Type:            nonrobust                                         \n",
       "==============================================================================\n",
       "                 coef    std err          t      P>|t|      [0.025      0.975]\n",
       "------------------------------------------------------------------------------\n",
       "Intercept     -1.0364      0.060    -17.399      0.000      -1.155      -0.918\n",
       "x              0.4831      0.063      7.647      0.000       0.358       0.609\n",
       "I(x ** 2)     -0.0024      0.045     -0.052      0.959      -0.092       0.088\n",
       "==============================================================================\n",
       "Omnibus:                        1.338   Durbin-Watson:                   2.197\n",
       "Prob(Omnibus):                  0.512   Jarque-Bera (JB):                0.814\n",
       "Skew:                           0.119   Prob(JB):                        0.666\n",
       "Kurtosis:                       3.372   Cond. No.                         2.23\n",
       "==============================================================================\n",
       "\n",
       "Notes:\n",
       "[1] Standard Errors assume that the covariance matrix of the errors is correctly specified.\n",
       "\"\"\""
      ]
     },
     "execution_count": 59,
     "metadata": {},
     "output_type": "execute_result"
    }
   ],
   "source": [
    "# Quadratic term did not signifcantly improve fit, it's p valie is 0.96\n",
    "reg2 = smf.ols('y~x+I(x**2)',df).fit()\n",
    "reg2.summary()"
   ]
  },
  {
   "cell_type": "code",
   "execution_count": 60,
   "id": "d73c00ed-5d15-4bf4-9c86-26525baf3602",
   "metadata": {},
   "outputs": [],
   "source": [
    "# Doing same regression with less noisy data\n",
    "eps = rng.normal(size=100, scale = 0.35)\n",
    "y = -1 + 0.5 * x + eps"
   ]
  },
  {
   "cell_type": "code",
   "execution_count": null,
   "id": "ad663d2c-6053-42a2-bf91-6aeda94f0a99",
   "metadata": {},
   "outputs": [],
   "source": []
  }
 ],
 "metadata": {
  "kernelspec": {
   "display_name": "Python 3 (ipykernel)",
   "language": "python",
   "name": "python3"
  },
  "language_info": {
   "codemirror_mode": {
    "name": "ipython",
    "version": 3
   },
   "file_extension": ".py",
   "mimetype": "text/x-python",
   "name": "python",
   "nbconvert_exporter": "python",
   "pygments_lexer": "ipython3",
   "version": "3.11.4"
  }
 },
 "nbformat": 4,
 "nbformat_minor": 5
}
