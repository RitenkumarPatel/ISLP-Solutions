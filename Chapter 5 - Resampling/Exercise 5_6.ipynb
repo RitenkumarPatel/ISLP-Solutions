{
 "cells": [
  {
   "cell_type": "code",
   "execution_count": 66,
   "id": "c51a773d-7475-4c7d-9b90-31f1e8a58511",
   "metadata": {},
   "outputs": [],
   "source": [
    "import pandas as pd\n",
    "import numpy as np\n",
    "import patsy\n",
    "import seaborn as sns\n",
    "import matplotlib.pyplot as plt\n",
    "\n",
    "import statsmodels.formula.api as smf\n",
    "from sklearn.model_selection import train_test_split\n",
    "from sklearn.linear_model import LogisticRegression\n",
    "from sklearn.metrics import confusion_matrix\n",
    "\n",
    "# statsmodels issue: https://github.com/statsmodels/statsmodels/issues/3931\n",
    "from scipy import stats\n",
    "stats.chisqprob = lambda chisq, df: stats.chi2.sf(chisq, df)\n",
    "\n",
    "from ISLP import load_data"
   ]
  },
  {
   "cell_type": "code",
   "execution_count": 171,
   "id": "0183ee33-a722-4267-ad9b-03d29d09aa0e",
   "metadata": {},
   "outputs": [],
   "source": [
    "Default = load_data(\"Default\")"
   ]
  },
  {
   "cell_type": "code",
   "execution_count": 172,
   "id": "036b7a0d-0a37-4df8-86fb-7a2d46b27de5",
   "metadata": {},
   "outputs": [
    {
     "data": {
      "text/html": [
       "<div>\n",
       "<style scoped>\n",
       "    .dataframe tbody tr th:only-of-type {\n",
       "        vertical-align: middle;\n",
       "    }\n",
       "\n",
       "    .dataframe tbody tr th {\n",
       "        vertical-align: top;\n",
       "    }\n",
       "\n",
       "    .dataframe thead th {\n",
       "        text-align: right;\n",
       "    }\n",
       "</style>\n",
       "<table border=\"1\" class=\"dataframe\">\n",
       "  <thead>\n",
       "    <tr style=\"text-align: right;\">\n",
       "      <th></th>\n",
       "      <th>default</th>\n",
       "      <th>student</th>\n",
       "      <th>balance</th>\n",
       "      <th>income</th>\n",
       "    </tr>\n",
       "  </thead>\n",
       "  <tbody>\n",
       "    <tr>\n",
       "      <th>0</th>\n",
       "      <td>0</td>\n",
       "      <td>No</td>\n",
       "      <td>729.526495</td>\n",
       "      <td>44361.625074</td>\n",
       "    </tr>\n",
       "    <tr>\n",
       "      <th>1</th>\n",
       "      <td>0</td>\n",
       "      <td>Yes</td>\n",
       "      <td>817.180407</td>\n",
       "      <td>12106.134700</td>\n",
       "    </tr>\n",
       "    <tr>\n",
       "      <th>2</th>\n",
       "      <td>0</td>\n",
       "      <td>No</td>\n",
       "      <td>1073.549164</td>\n",
       "      <td>31767.138947</td>\n",
       "    </tr>\n",
       "    <tr>\n",
       "      <th>3</th>\n",
       "      <td>0</td>\n",
       "      <td>No</td>\n",
       "      <td>529.250605</td>\n",
       "      <td>35704.493935</td>\n",
       "    </tr>\n",
       "    <tr>\n",
       "      <th>4</th>\n",
       "      <td>0</td>\n",
       "      <td>No</td>\n",
       "      <td>785.655883</td>\n",
       "      <td>38463.495879</td>\n",
       "    </tr>\n",
       "    <tr>\n",
       "      <th>...</th>\n",
       "      <td>...</td>\n",
       "      <td>...</td>\n",
       "      <td>...</td>\n",
       "      <td>...</td>\n",
       "    </tr>\n",
       "    <tr>\n",
       "      <th>9995</th>\n",
       "      <td>0</td>\n",
       "      <td>No</td>\n",
       "      <td>711.555020</td>\n",
       "      <td>52992.378914</td>\n",
       "    </tr>\n",
       "    <tr>\n",
       "      <th>9996</th>\n",
       "      <td>0</td>\n",
       "      <td>No</td>\n",
       "      <td>757.962918</td>\n",
       "      <td>19660.721768</td>\n",
       "    </tr>\n",
       "    <tr>\n",
       "      <th>9997</th>\n",
       "      <td>0</td>\n",
       "      <td>No</td>\n",
       "      <td>845.411989</td>\n",
       "      <td>58636.156984</td>\n",
       "    </tr>\n",
       "    <tr>\n",
       "      <th>9998</th>\n",
       "      <td>0</td>\n",
       "      <td>No</td>\n",
       "      <td>1569.009053</td>\n",
       "      <td>36669.112365</td>\n",
       "    </tr>\n",
       "    <tr>\n",
       "      <th>9999</th>\n",
       "      <td>0</td>\n",
       "      <td>Yes</td>\n",
       "      <td>200.922183</td>\n",
       "      <td>16862.952321</td>\n",
       "    </tr>\n",
       "  </tbody>\n",
       "</table>\n",
       "<p>10000 rows × 4 columns</p>\n",
       "</div>"
      ],
      "text/plain": [
       "      default student      balance        income\n",
       "0           0      No   729.526495  44361.625074\n",
       "1           0     Yes   817.180407  12106.134700\n",
       "2           0      No  1073.549164  31767.138947\n",
       "3           0      No   529.250605  35704.493935\n",
       "4           0      No   785.655883  38463.495879\n",
       "...       ...     ...          ...           ...\n",
       "9995        0      No   711.555020  52992.378914\n",
       "9996        0      No   757.962918  19660.721768\n",
       "9997        0      No   845.411989  58636.156984\n",
       "9998        0      No  1569.009053  36669.112365\n",
       "9999        0     Yes   200.922183  16862.952321\n",
       "\n",
       "[10000 rows x 4 columns]"
      ]
     },
     "execution_count": 172,
     "metadata": {},
     "output_type": "execute_result"
    }
   ],
   "source": [
    "Default['default'] = (Default['default'] == \"Yes\").astype(int)\n",
    "Default"
   ]
  },
  {
   "cell_type": "code",
   "execution_count": 124,
   "id": "9d484ec9-f175-40a4-a433-8e9aa0fa153a",
   "metadata": {},
   "outputs": [
    {
     "data": {
      "text/plain": [
       "array([[2.08089921e-05, 5.64710291e-03]])"
      ]
     },
     "execution_count": 124,
     "metadata": {},
     "output_type": "execute_result"
    }
   ],
   "source": [
    "# Part A, fitting a logistic regression\n",
    "lr = LogisticRegression(C=10**5) # High C removes the regularization\n",
    "X = Default[['income', 'balance']]\n",
    "y = Default['default']\n",
    "mod = lr.fit(X, y)\n",
    "mod.coef_"
   ]
  },
  {
   "cell_type": "code",
   "execution_count": 125,
   "id": "bfe75414-b049-4f62-9293-2b5064239a81",
   "metadata": {},
   "outputs": [],
   "source": [
    "# Part B (i) \n",
    "X_train, X_test, y_train, y_test = train_test_split(X, y, test_size = 0.5, random_state=0)"
   ]
  },
  {
   "cell_type": "code",
   "execution_count": 126,
   "id": "7c4df02a-098f-4954-b367-307ba3b07c20",
   "metadata": {},
   "outputs": [
    {
     "data": {
      "text/plain": [
       "array([[1.57956935e-05, 5.56457807e-03]])"
      ]
     },
     "execution_count": 126,
     "metadata": {},
     "output_type": "execute_result"
    }
   ],
   "source": [
    "# Part B (ii)\n",
    "mod = lr.fit(X_train, y_train)\n",
    "mod.coef_"
   ]
  },
  {
   "cell_type": "code",
   "execution_count": 127,
   "id": "48708751-1028-4930-b3ed-e8c216f5db93",
   "metadata": {},
   "outputs": [],
   "source": [
    "# Part B (iii)\n",
    "# Computing the posterior for each entry in the test set\n",
    "pred = mod.predict_proba(X_test)\n",
    "lr_labels = np.where(pred[:,1] > 0.5, 1, 0)\n"
   ]
  },
  {
   "cell_type": "code",
   "execution_count": 128,
   "id": "6b033849-d71a-464d-9fbc-d872ce229821",
   "metadata": {},
   "outputs": [
    {
     "data": {
      "text/plain": [
       "0.029"
      ]
     },
     "execution_count": 128,
     "metadata": {},
     "output_type": "execute_result"
    }
   ],
   "source": [
    "# Part B (iv)\n",
    "incorr_pred = (lr_labels != y_test)\n",
    "val_set_error = incorr_pred.sum() / len(y_test)\n",
    "val_set_error"
   ]
  },
  {
   "cell_type": "code",
   "execution_count": 153,
   "id": "31ed025e-f4fb-4c10-800b-c36627a71e30",
   "metadata": {},
   "outputs": [],
   "source": [
    "# Writing a function to do part B\n",
    "def cross_val(test_size, X, y):\n",
    "    X_train, X_test, y_train, y_test = train_test_split(X,y, test_size = test_size, random_state=0)\n",
    "    mod = lr.fit(X_train, y_train)\n",
    "    pred = mod.predict_proba(X_test)\n",
    "    lr_labels = np.where(pred[:,1] > 0.5, 1, 0)\n",
    "    val_set_error = (lr_labels != y_test).mean()\n",
    "    return val_set_error"
   ]
  },
  {
   "cell_type": "code",
   "execution_count": 154,
   "id": "d41948fd-dd78-4c03-806c-7f26f7f7a971",
   "metadata": {},
   "outputs": [
    {
     "name": "stdout",
     "output_type": "stream",
     "text": [
      "0.029\n"
     ]
    }
   ],
   "source": [
    "print(cross_val(0.5, X, y))"
   ]
  },
  {
   "cell_type": "code",
   "execution_count": 155,
   "id": "6f3c4fcb-3414-4f7a-9f3c-6afc1a648bd9",
   "metadata": {},
   "outputs": [
    {
     "name": "stdout",
     "output_type": "stream",
     "text": [
      "0.037\n"
     ]
    }
   ],
   "source": [
    "print(cross_val(0.2, X, y))"
   ]
  },
  {
   "cell_type": "code",
   "execution_count": 132,
   "id": "2b077f64-6e9a-48d9-a7aa-69fa3eeef202",
   "metadata": {},
   "outputs": [
    {
     "name": "stdout",
     "output_type": "stream",
     "text": [
      "0.03\n"
     ]
    }
   ],
   "source": [
    "print(cross_val(0.1,X,y))"
   ]
  },
  {
   "cell_type": "code",
   "execution_count": 133,
   "id": "aab567dd-bd7d-45ae-8db1-7b83c5179c43",
   "metadata": {},
   "outputs": [
    {
     "name": "stdout",
     "output_type": "stream",
     "text": [
      "0.03816666666666667\n"
     ]
    }
   ],
   "source": [
    "print(cross_val(0.6,X,y))"
   ]
  },
  {
   "cell_type": "code",
   "execution_count": 156,
   "id": "f618182b-4c25-4469-a743-04222ddc2c67",
   "metadata": {},
   "outputs": [
    {
     "name": "stdout",
     "output_type": "stream",
     "text": [
      "0.027375\n"
     ]
    }
   ],
   "source": [
    "print(cross_val(0.8,X,y))"
   ]
  },
  {
   "cell_type": "code",
   "execution_count": 150,
   "id": "0bef2e30-e42f-4c43-85ee-09258ed2ff76",
   "metadata": {},
   "outputs": [
    {
     "data": {
      "text/html": [
       "<div>\n",
       "<style scoped>\n",
       "    .dataframe tbody tr th:only-of-type {\n",
       "        vertical-align: middle;\n",
       "    }\n",
       "\n",
       "    .dataframe tbody tr th {\n",
       "        vertical-align: top;\n",
       "    }\n",
       "\n",
       "    .dataframe thead th {\n",
       "        text-align: right;\n",
       "    }\n",
       "</style>\n",
       "<table border=\"1\" class=\"dataframe\">\n",
       "  <thead>\n",
       "    <tr style=\"text-align: right;\">\n",
       "      <th></th>\n",
       "      <th>default</th>\n",
       "      <th>student</th>\n",
       "      <th>balance</th>\n",
       "      <th>income</th>\n",
       "    </tr>\n",
       "  </thead>\n",
       "  <tbody>\n",
       "    <tr>\n",
       "      <th>0</th>\n",
       "      <td>No</td>\n",
       "      <td>0</td>\n",
       "      <td>729.526495</td>\n",
       "      <td>44361.625074</td>\n",
       "    </tr>\n",
       "    <tr>\n",
       "      <th>1</th>\n",
       "      <td>No</td>\n",
       "      <td>1</td>\n",
       "      <td>817.180407</td>\n",
       "      <td>12106.134700</td>\n",
       "    </tr>\n",
       "    <tr>\n",
       "      <th>2</th>\n",
       "      <td>No</td>\n",
       "      <td>0</td>\n",
       "      <td>1073.549164</td>\n",
       "      <td>31767.138947</td>\n",
       "    </tr>\n",
       "    <tr>\n",
       "      <th>3</th>\n",
       "      <td>No</td>\n",
       "      <td>0</td>\n",
       "      <td>529.250605</td>\n",
       "      <td>35704.493935</td>\n",
       "    </tr>\n",
       "    <tr>\n",
       "      <th>4</th>\n",
       "      <td>No</td>\n",
       "      <td>0</td>\n",
       "      <td>785.655883</td>\n",
       "      <td>38463.495879</td>\n",
       "    </tr>\n",
       "    <tr>\n",
       "      <th>...</th>\n",
       "      <td>...</td>\n",
       "      <td>...</td>\n",
       "      <td>...</td>\n",
       "      <td>...</td>\n",
       "    </tr>\n",
       "    <tr>\n",
       "      <th>9995</th>\n",
       "      <td>No</td>\n",
       "      <td>0</td>\n",
       "      <td>711.555020</td>\n",
       "      <td>52992.378914</td>\n",
       "    </tr>\n",
       "    <tr>\n",
       "      <th>9996</th>\n",
       "      <td>No</td>\n",
       "      <td>0</td>\n",
       "      <td>757.962918</td>\n",
       "      <td>19660.721768</td>\n",
       "    </tr>\n",
       "    <tr>\n",
       "      <th>9997</th>\n",
       "      <td>No</td>\n",
       "      <td>0</td>\n",
       "      <td>845.411989</td>\n",
       "      <td>58636.156984</td>\n",
       "    </tr>\n",
       "    <tr>\n",
       "      <th>9998</th>\n",
       "      <td>No</td>\n",
       "      <td>0</td>\n",
       "      <td>1569.009053</td>\n",
       "      <td>36669.112365</td>\n",
       "    </tr>\n",
       "    <tr>\n",
       "      <th>9999</th>\n",
       "      <td>No</td>\n",
       "      <td>1</td>\n",
       "      <td>200.922183</td>\n",
       "      <td>16862.952321</td>\n",
       "    </tr>\n",
       "  </tbody>\n",
       "</table>\n",
       "<p>10000 rows × 4 columns</p>\n",
       "</div>"
      ],
      "text/plain": [
       "     default  student      balance        income\n",
       "0         No        0   729.526495  44361.625074\n",
       "1         No        1   817.180407  12106.134700\n",
       "2         No        0  1073.549164  31767.138947\n",
       "3         No        0   529.250605  35704.493935\n",
       "4         No        0   785.655883  38463.495879\n",
       "...      ...      ...          ...           ...\n",
       "9995      No        0   711.555020  52992.378914\n",
       "9996      No        0   757.962918  19660.721768\n",
       "9997      No        0   845.411989  58636.156984\n",
       "9998      No        0  1569.009053  36669.112365\n",
       "9999      No        1   200.922183  16862.952321\n",
       "\n",
       "[10000 rows x 4 columns]"
      ]
     },
     "execution_count": 150,
     "metadata": {},
     "output_type": "execute_result"
    }
   ],
   "source": [
    "# Part D, fitting a new model using student predictor\n",
    "Default['student'] = (Default['student'] == \"Yes\").astype(int)\n",
    "Default"
   ]
  },
  {
   "cell_type": "code",
   "execution_count": 157,
   "id": "0a956c85-8c43-42e1-8fdb-2a196fd95bdb",
   "metadata": {},
   "outputs": [
    {
     "name": "stdout",
     "output_type": "stream",
     "text": [
      "0.0356\n"
     ]
    }
   ],
   "source": [
    "X_stud = Default[['income','balance','student']]\n",
    "print(cross_val(0.5, X_stud, y))"
   ]
  },
  {
   "cell_type": "code",
   "execution_count": 158,
   "id": "a5fceb5e-9159-44bd-8e53-fb4935f98ca9",
   "metadata": {},
   "outputs": [
    {
     "name": "stdout",
     "output_type": "stream",
     "text": [
      "0.03816666666666667\n"
     ]
    }
   ],
   "source": [
    "print(cross_val(0.6, X_stud,y))"
   ]
  },
  {
   "cell_type": "code",
   "execution_count": 159,
   "id": "ff1b72e6-31cb-45e0-bbf2-530d5a930ded",
   "metadata": {},
   "outputs": [
    {
     "name": "stdout",
     "output_type": "stream",
     "text": [
      "0.034375\n"
     ]
    }
   ],
   "source": [
    "print(cross_val(0.8, X_stud, y))"
   ]
  },
  {
   "cell_type": "code",
   "execution_count": null,
   "id": "422fabd7-ec7b-47b9-b1b0-95865b8ce449",
   "metadata": {},
   "outputs": [],
   "source": [
    "# Clearly, using the student predictor did not help the test error rate"
   ]
  },
  {
   "cell_type": "code",
   "execution_count": 174,
   "id": "4f89c31e-6441-4639-b959-2077d80da027",
   "metadata": {},
   "outputs": [
    {
     "data": {
      "text/html": [
       "<div>\n",
       "<style scoped>\n",
       "    .dataframe tbody tr th:only-of-type {\n",
       "        vertical-align: middle;\n",
       "    }\n",
       "\n",
       "    .dataframe tbody tr th {\n",
       "        vertical-align: top;\n",
       "    }\n",
       "\n",
       "    .dataframe thead th {\n",
       "        text-align: right;\n",
       "    }\n",
       "</style>\n",
       "<table border=\"1\" class=\"dataframe\">\n",
       "  <thead>\n",
       "    <tr style=\"text-align: right;\">\n",
       "      <th></th>\n",
       "      <th>coef</th>\n",
       "      <th>std err</th>\n",
       "      <th>z</th>\n",
       "      <th>P&gt;|z|</th>\n",
       "    </tr>\n",
       "  </thead>\n",
       "  <tbody>\n",
       "    <tr>\n",
       "      <th>intercept</th>\n",
       "      <td>-11.540500</td>\n",
       "      <td>0.435000</td>\n",
       "      <td>-26.544</td>\n",
       "      <td>0.0</td>\n",
       "    </tr>\n",
       "    <tr>\n",
       "      <th>income</th>\n",
       "      <td>0.000021</td>\n",
       "      <td>0.000005</td>\n",
       "      <td>4.174</td>\n",
       "      <td>0.0</td>\n",
       "    </tr>\n",
       "    <tr>\n",
       "      <th>balance</th>\n",
       "      <td>0.005600</td>\n",
       "      <td>0.000000</td>\n",
       "      <td>24.835</td>\n",
       "      <td>0.0</td>\n",
       "    </tr>\n",
       "  </tbody>\n",
       "</table>\n",
       "</div>"
      ],
      "text/plain": [
       "                coef   std err       z  P>|z|\n",
       "intercept -11.540500  0.435000 -26.544    0.0\n",
       "income      0.000021  0.000005   4.174    0.0\n",
       "balance     0.005600  0.000000  24.835    0.0"
      ]
     },
     "execution_count": 174,
     "metadata": {},
     "output_type": "execute_result"
    }
   ],
   "source": [
    "# Problem 6\n",
    "# Part A\n",
    "# Getting SE for coefficients\n",
    "\n",
    "design = MS(['income','balance'])\n",
    "X = design.fit_transform(Default)\n",
    "y = Default['default']\n",
    "glm = sm.GLM(y, X, family=sm.families.Binomial())\n",
    "results = glm.fit()\n",
    "summarize(results)"
   ]
  },
  {
   "cell_type": "code",
   "execution_count": 180,
   "id": "32744eee-09db-4dd2-ba46-f58cedef6ce3",
   "metadata": {},
   "outputs": [],
   "source": [
    "# Part B\n",
    "def boot_fn(Default):\n",
    "    mod1 = smf.glm('default ~ income + balance',data=Default, family=sm.families.Binomial()).fit()\n",
    "    return mod1.params"
   ]
  },
  {
   "cell_type": "code",
   "execution_count": 181,
   "id": "fea96e2a-02b6-4e8d-8914-03a729fe5f1d",
   "metadata": {},
   "outputs": [
    {
     "data": {
      "text/plain": [
       "Intercept   -11.540468\n",
       "income        0.000021\n",
       "balance       0.005647\n",
       "dtype: float64"
      ]
     },
     "execution_count": 181,
     "metadata": {},
     "output_type": "execute_result"
    }
   ],
   "source": [
    "boot_fn(Default)"
   ]
  },
  {
   "cell_type": "code",
   "execution_count": 194,
   "id": "cee94e2a-85b0-4413-8ded-129035b7f649",
   "metadata": {},
   "outputs": [],
   "source": [
    "#bootstrap function\n",
    "def boot(X, bootSample_size=None):\n",
    "    #create random integers to use as indices for bootstrap sample based on original data\n",
    "    bootSample_i = (np.random.rand(bootSample_size)*len(X)).astype(int)\n",
    "    bootSample_i = np.array(bootSample_i)\n",
    "    bootSample_X = X.iloc[bootSample_i]\n",
    "\n",
    "    return bootSample_X"
   ]
  },
  {
   "cell_type": "code",
   "execution_count": 195,
   "id": "7c3f7902-a33a-4956-8a37-3d6c8a503c5c",
   "metadata": {},
   "outputs": [
    {
     "ename": "TypeError",
     "evalue": "'NoneType' object cannot be interpreted as an integer",
     "output_type": "error",
     "traceback": [
      "\u001b[0;31m---------------------------------------------------------------------------\u001b[0m",
      "\u001b[0;31mTypeError\u001b[0m                                 Traceback (most recent call last)",
      "Cell \u001b[0;32mIn[195], line 6\u001b[0m\n\u001b[1;32m      3\u001b[0m n \u001b[38;5;241m=\u001b[39m \u001b[38;5;241m100\u001b[39m \u001b[38;5;66;03m#number of bootstrapped samples\u001b[39;00m\n\u001b[1;32m      5\u001b[0m \u001b[38;5;28;01mfor\u001b[39;00m i \u001b[38;5;129;01min\u001b[39;00m \u001b[38;5;28mrange\u001b[39m(\u001b[38;5;241m0\u001b[39m,n):\n\u001b[0;32m----> 6\u001b[0m     coef_i \u001b[38;5;241m=\u001b[39m boot_fn(\u001b[43mboot\u001b[49m\u001b[43m(\u001b[49m\u001b[43mDefault\u001b[49m\u001b[43m)\u001b[49m) \u001b[38;5;66;03m#determining coefficients for specific bootstrapped sample\u001b[39;00m\n\u001b[1;32m      7\u001b[0m     coefficients\u001b[38;5;241m.\u001b[39mappend(coef_i) \u001b[38;5;66;03m#saving coefficients value\u001b[39;00m\n\u001b[1;32m      9\u001b[0m \u001b[38;5;28mprint\u001b[39m(pd\u001b[38;5;241m.\u001b[39mDataFrame(coefficients)\u001b[38;5;241m.\u001b[39mmean()) \u001b[38;5;66;03m#print average of coefficients\u001b[39;00m\n",
      "Cell \u001b[0;32mIn[194], line 4\u001b[0m, in \u001b[0;36mboot\u001b[0;34m(X, bootSample_size)\u001b[0m\n\u001b[1;32m      2\u001b[0m \u001b[38;5;28;01mdef\u001b[39;00m \u001b[38;5;21mboot\u001b[39m(X, bootSample_size\u001b[38;5;241m=\u001b[39m\u001b[38;5;28;01mNone\u001b[39;00m):\n\u001b[1;32m      3\u001b[0m     \u001b[38;5;66;03m#create random integers to use as indices for bootstrap sample based on original data\u001b[39;00m\n\u001b[0;32m----> 4\u001b[0m     bootSample_i \u001b[38;5;241m=\u001b[39m (\u001b[43mnp\u001b[49m\u001b[38;5;241;43m.\u001b[39;49m\u001b[43mrandom\u001b[49m\u001b[38;5;241;43m.\u001b[39;49m\u001b[43mrand\u001b[49m\u001b[43m(\u001b[49m\u001b[43mbootSample_size\u001b[49m\u001b[43m)\u001b[49m\u001b[38;5;241m*\u001b[39m\u001b[38;5;28mlen\u001b[39m(X))\u001b[38;5;241m.\u001b[39mastype(\u001b[38;5;28mint\u001b[39m)\n\u001b[1;32m      5\u001b[0m     bootSample_i \u001b[38;5;241m=\u001b[39m np\u001b[38;5;241m.\u001b[39marray(bootSample_i)\n\u001b[1;32m      6\u001b[0m     bootSample_X \u001b[38;5;241m=\u001b[39m X\u001b[38;5;241m.\u001b[39miloc[bootSample_i]\n",
      "File \u001b[0;32mmtrand.pyx:1202\u001b[0m, in \u001b[0;36mnumpy.random.mtrand.RandomState.rand\u001b[0;34m()\u001b[0m\n",
      "File \u001b[0;32mmtrand.pyx:436\u001b[0m, in \u001b[0;36mnumpy.random.mtrand.RandomState.random_sample\u001b[0;34m()\u001b[0m\n",
      "File \u001b[0;32m_common.pyx:307\u001b[0m, in \u001b[0;36mnumpy.random._common.double_fill\u001b[0;34m()\u001b[0m\n",
      "\u001b[0;31mTypeError\u001b[0m: 'NoneType' object cannot be interpreted as an integer"
     ]
    }
   ],
   "source": [
    "\n",
    "#running model for bootstrapped samples\n",
    "coefficients = [] #variable initialization\n",
    "n = 100 #number of bootstrapped samples\n",
    "\n",
    "for i in range(0,n):\n",
    "    coef_i = boot_fn(boot(Default)) #determining coefficients for specific bootstrapped sample\n",
    "    coefficients.append(coef_i) #saving coefficients value\n",
    "\n",
    "print(pd.DataFrame(coefficients).mean()) #print average of coefficients\n"
   ]
  },
  {
   "cell_type": "code",
   "execution_count": null,
   "id": "4e7142c8-0874-4f20-92ca-a0e11ba52908",
   "metadata": {},
   "outputs": [],
   "source": []
  }
 ],
 "metadata": {
  "kernelspec": {
   "display_name": "Python 3 (ipykernel)",
   "language": "python",
   "name": "python3"
  },
  "language_info": {
   "codemirror_mode": {
    "name": "ipython",
    "version": 3
   },
   "file_extension": ".py",
   "mimetype": "text/x-python",
   "name": "python",
   "nbconvert_exporter": "python",
   "pygments_lexer": "ipython3",
   "version": "3.11.4"
  }
 },
 "nbformat": 4,
 "nbformat_minor": 5
}
